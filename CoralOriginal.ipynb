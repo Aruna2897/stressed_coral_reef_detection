{
  "nbformat": 4,
  "nbformat_minor": 0,
  "metadata": {
    "colab": {
      "provenance": []
    },
    "kernelspec": {
      "name": "python3",
      "display_name": "Python 3"
    },
    "language_info": {
      "name": "python"
    }
  },
  "cells": [
    {
      "cell_type": "code",
      "execution_count": 1,
      "metadata": {
        "id": "dGonWu1YHiCa"
      },
      "outputs": [],
      "source": [
        "from tensorflow.keras.utils import to_categorical\n",
        "from tensorflow.keras.preprocessing.image import load_img\n",
        "from glob import glob\n",
        "import pandas as pd\n",
        "import numpy as np\n",
        "import matplotlib.pyplot as plt\n"
      ]
    },
    {
      "cell_type": "code",
      "source": [
        "stressed_coralreef = '/content/drive/MyDrive/train/stressed coral reef images/*'\n",
        "healthy_coralreef = '/content/drive/MyDrive/train/healthy coral reef images/*'"
      ],
      "metadata": {
        "id": "5LxIjgvhHv0S"
      },
      "execution_count": 2,
      "outputs": []
    },
    {
      "cell_type": "code",
      "source": [
        "x_train = list()\n",
        "y_train = list() \n",
        "\n",
        "for img_path in glob(healthy_coralreef):\n",
        "    input_img = load_img(img_path, target_size=(224,224))\n",
        "    input_img = np.array(input_img)\n",
        "    x_train.append(input_img)\n",
        "    y_train.append(0) \n",
        "\n",
        "for img_path in glob(stressed_coralreef):\n",
        "    input_img = load_img(img_path, target_size=(224,224))\n",
        "    input_img = np.array(input_img)\n",
        "    x_train.append(input_img)\n",
        "    y_train.append(1)"
      ],
      "metadata": {
        "id": "hkbbUMvSJqo8"
      },
      "execution_count": 3,
      "outputs": []
    },
    {
      "cell_type": "code",
      "source": [
        "healthy = '/content/drive/MyDrive/test/healthy/*'\n",
        "stressed = '/content/drive/MyDrive/test/stressed/*'"
      ],
      "metadata": {
        "id": "wYS8FtdeHeUI"
      },
      "execution_count": 4,
      "outputs": []
    },
    {
      "cell_type": "code",
      "source": [
        "x_test = list()\n",
        "y_test = list() \n",
        "\n",
        "for img_path in glob(healthy):\n",
        "    input_img = load_img(img_path, target_size=(224,224))\n",
        "    input_img = np.array(input_img)\n",
        "    x_test.append(input_img)\n",
        "    y_test.append(0) \n",
        "\n",
        "for img_path in glob(stressed):\n",
        "    input_img = load_img(img_path, target_size=(224,224))\n",
        "    input_img = np.array(input_img)\n",
        "    x_test.append(input_img)\n",
        "    y_test.append(1)"
      ],
      "metadata": {
        "id": "AokN-cPy9vsd"
      },
      "execution_count": 5,
      "outputs": []
    },
    {
      "cell_type": "code",
      "source": [
        "x_train = np.array(x_train)\n",
        "y_train = np.array(y_train)"
      ],
      "metadata": {
        "id": "N5ofAy5nLJ5w"
      },
      "execution_count": 7,
      "outputs": []
    },
    {
      "cell_type": "code",
      "source": [
        "x_test = np.array(x_test)\n",
        "y_test = np.array(y_test)"
      ],
      "metadata": {
        "id": "4gN2x1A-IKYZ"
      },
      "execution_count": 10,
      "outputs": []
    },
    {
      "cell_type": "code",
      "source": [
        "x_train.shape"
      ],
      "metadata": {
        "colab": {
          "base_uri": "https://localhost:8080/"
        },
        "id": "eE0hlCY6LVJj",
        "outputId": "0fd4ca7b-70af-4a2b-f2c3-77780f501bf0"
      },
      "execution_count": 11,
      "outputs": [
        {
          "output_type": "execute_result",
          "data": {
            "text/plain": [
              "(104, 224, 224, 3)"
            ]
          },
          "metadata": {},
          "execution_count": 11
        }
      ]
    },
    {
      "cell_type": "code",
      "source": [
        "x_train = x_train.reshape(-1,224,224,3).astype(float)\n",
        "x_test = x_test.reshape(-1,224,224,3).astype(float)"
      ],
      "metadata": {
        "id": "zcvc6Z6uH7x2"
      },
      "execution_count": 27,
      "outputs": []
    },
    {
      "cell_type": "code",
      "source": [
        "y_train_ohe = to_categorical(y_train)\n",
        "y_test_ohe = to_categorical(y_test)"
      ],
      "metadata": {
        "id": "ObRRWBiA9b0D"
      },
      "execution_count": 28,
      "outputs": []
    },
    {
      "cell_type": "code",
      "source": [
        "plt.imshow(x_train[0])\n",
        "plt.show()"
      ],
      "metadata": {
        "colab": {
          "base_uri": "https://localhost:8080/",
          "height": 286
        },
        "id": "kxNe_DI9K8xw",
        "outputId": "b5668715-7f09-40b7-baf9-bf91e18dbcf6"
      },
      "execution_count": 29,
      "outputs": [
        {
          "output_type": "stream",
          "name": "stderr",
          "text": [
            "WARNING:matplotlib.image:Clipping input data to the valid range for imshow with RGB data ([0..1] for floats or [0..255] for integers).\n"
          ]
        },
        {
          "output_type": "display_data",
          "data": {
            "text/plain": [
              "<Figure size 432x288 with 1 Axes>"
            ],
            "image/png": "[encoded data removed]"
          },
          "metadata": {
            "needs_background": "light"
          }
        }
      ]
    },
    {
      "cell_type": "code",
      "source": [
        "import tensorflow as tf\n",
        "from tensorflow.keras.models import Sequential\n",
        "from tensorflow.keras.layers import Input, Dense, Conv2D, Flatten, MaxPooling2D,Dropout,BatchNormalization\n",
        "from tensorflow.keras.layers import Activation"
      ],
      "metadata": {
        "id": "JPhHEVsnJvBL"
      },
      "execution_count": 30,
      "outputs": []
    },
    {
      "cell_type": "code",
      "source": [
        "model = Sequential([\n",
        "    tf.keras.layers.Conv2D(32, (3, 3), activation = 'relu', input_shape = (224,224,3)), \n",
        "    tf.keras.layers.Dropout(0.2),\n",
        "    tf.keras.layers.MaxPooling2D(2,2),\n",
        "    tf.keras.layers.Conv2D(32, (3, 3), activation = 'relu'),\n",
        "    tf.keras.layers.BatchNormalization(),\n",
        "    tf.keras.layers.MaxPooling2D(2,2),\n",
        "    tf.keras.layers.Flatten(),\n",
        "    tf.keras.layers.Dense(128, activation=tf.nn.relu),\n",
        "    tf.keras.layers.Dense(1, activation=tf.nn.sigmoid)]) "
      ],
      "metadata": {
        "id": "imxvanN-MRDF"
      },
      "execution_count": 57,
      "outputs": []
    },
    {
      "cell_type": "code",
      "source": [
        "model.compile(loss='binary_crossentropy',\n",
        "  optimizer='adam',metrics=['accuracy'])"
      ],
      "metadata": {
        "id": "LACsWlgAL5fV"
      },
      "execution_count": 58,
      "outputs": []
    },
    {
      "cell_type": "code",
      "source": [
        "history = model.fit(x=x_train, y=y_train, epochs=5,batch_size=4,validation_split=0.2, shuffle=True)"
      ],
      "metadata": {
        "colab": {
          "base_uri": "https://localhost:8080/"
        },
        "id": "3MkqlB8DNtbX",
        "outputId": "b5295ed0-a450-48c5-f665-5cb8b340ffec"
      },
      "execution_count": 59,
      "outputs": [
        {
          "output_type": "stream",
          "name": "stdout",
          "text": [
            "Epoch 1/5\n",
            "21/21 [==============================] - 20s 891ms/step - loss: 9.7578 - accuracy: 0.6145 - val_loss: 0.0000e+00 - val_accuracy: 1.0000\n",
            "Epoch 2/5\n",
            "21/21 [==============================] - 17s 794ms/step - loss: 2.0781 - accuracy: 0.9398 - val_loss: 42.3827 - val_accuracy: 0.4762\n",
            "Epoch 3/5\n",
            "21/21 [==============================] - 21s 989ms/step - loss: 4.3090 - accuracy: 0.9036 - val_loss: 48.2004 - val_accuracy: 0.2381\n",
            "Epoch 4/5\n",
            "21/21 [==============================] - 18s 874ms/step - loss: 2.2068 - accuracy: 0.9398 - val_loss: 9.1788 - val_accuracy: 0.9048\n",
            "Epoch 5/5\n",
            "21/21 [==============================] - 20s 939ms/step - loss: 1.7658 - accuracy: 0.9759 - val_loss: 11.1144 - val_accuracy: 0.7143\n"
          ]
        }
      ]
    },
    {
      "cell_type": "code",
      "source": [
        "plt.plot(history.history['accuracy'],label='train_acc')\n",
        "plt.plot(history.history['val_accuracy'],label='val_acc')\n",
        "plt.legend()\n",
        "plt.show()"
      ],
      "metadata": {
        "id": "YfagXqqHOE1Q",
        "colab": {
          "base_uri": "https://localhost:8080/",
          "height": 265
        },
        "outputId": "29d93347-e93d-499d-f374-47af22f612b8"
      },
      "execution_count": 60,
      "outputs": [
        {
          "output_type": "display_data",
          "data": {
            "text/plain": [
              "<Figure size 432x288 with 1 Axes>"
            ],
            "image/png": "[encoded data removed]"
          },
          "metadata": {
            "needs_background": "light"
          }
        }
      ]
    },
    {
      "cell_type": "code",
      "source": [
        "plt.plot(history.history['loss'],label='train_loss')\n",
        "plt.plot(history.history['val_loss'],label='val_loss')\n",
        "plt.legend()\n",
        "plt.show()"
      ],
      "metadata": {
        "id": "e4U1u6hpNLig",
        "colab": {
          "base_uri": "https://localhost:8080/",
          "height": 267
        },
        "outputId": "8e93453b-b3ac-4311-9686-f5518e7d8666"
      },
      "execution_count": 61,
      "outputs": [
        {
          "output_type": "display_data",
          "data": {
            "text/plain": [
              "<Figure size 432x288 with 1 Axes>"
            ],
            "image/png": "[encoded data removed]"
          },
          "metadata": {
            "needs_background": "light"
          }
        }
      ]
    },
    {
      "cell_type": "code",
      "source": [
        "from sklearn.metrics import confusion_matrix,accuracy_score,classification_report"
      ],
      "metadata": {
        "id": "ou6bR4QoOd9x"
      },
      "execution_count": 63,
      "outputs": []
    },
    {
      "cell_type": "code",
      "source": [
        "predictions = model.predict(x_test)\n",
        "y_pred = (predictions > 0.1)"
      ],
      "metadata": {
        "colab": {
          "base_uri": "https://localhost:8080/"
        },
        "id": "1Lv0KheqOgiQ",
        "outputId": "53dc0a90-8b94-452d-b6d5-ab99240a1288"
      },
      "execution_count": 93,
      "outputs": [
        {
          "output_type": "stream",
          "name": "stdout",
          "text": [
            "1/1 [==============================] - 0s 366ms/step\n"
          ]
        }
      ]
    },
    {
      "cell_type": "code",
      "source": [
        "matrix = confusion_matrix(y_test, y_pred)"
      ],
      "metadata": {
        "id": "4koYt_83Su-E"
      },
      "execution_count": 94,
      "outputs": []
    },
    {
      "cell_type": "code",
      "source": [
        "matrix"
      ],
      "metadata": {
        "colab": {
          "base_uri": "https://localhost:8080/"
        },
        "id": "d_xu7cGDTBkH",
        "outputId": "1ea2cf70-f2f5-4b29-d354-07cc128cf726"
      },
      "execution_count": 95,
      "outputs": [
        {
          "output_type": "execute_result",
          "data": {
            "text/plain": [
              "array([[ 9,  1],\n",
              "       [ 0, 10]])"
            ]
          },
          "metadata": {},
          "execution_count": 95
        }
      ]
    },
    {
      "cell_type": "code",
      "source": [
        "accuracy_score(y_test,y_pred)"
      ],
      "metadata": {
        "colab": {
          "base_uri": "https://localhost:8080/"
        },
        "id": "kHiQL6ZcOjpd",
        "outputId": "23c3e86f-b816-45c1-d854-d8ce0c03dbbf"
      },
      "execution_count": 96,
      "outputs": [
        {
          "output_type": "execute_result",
          "data": {
            "text/plain": [
              "0.95"
            ]
          },
          "metadata": {},
          "execution_count": 96
        }
      ]
    },
    {
      "cell_type": "code",
      "source": [
        "print('Classification Report')\n",
        "target_names = ['Healthy', 'Stressed']\n",
        "print(classification_report(y_test, y_pred, target_names=target_names))"
      ],
      "metadata": {
        "colab": {
          "base_uri": "https://localhost:8080/"
        },
        "id": "T66zxNrJOpBD",
        "outputId": "b8668169-ce60-4e75-8c97-a1d5b1e95bdd"
      },
      "execution_count": 97,
      "outputs": [
        {
          "output_type": "stream",
          "name": "stdout",
          "text": [
            "Classification Report\n",
            "              precision    recall  f1-score   support\n",
            "\n",
            "     Healthy       1.00      0.90      0.95        10\n",
            "    Stressed       0.91      1.00      0.95        10\n",
            "\n",
            "    accuracy                           0.95        20\n",
            "   macro avg       0.95      0.95      0.95        20\n",
            "weighted avg       0.95      0.95      0.95        20\n",
            "\n"
          ]
        }
      ]
    }
  ]
}